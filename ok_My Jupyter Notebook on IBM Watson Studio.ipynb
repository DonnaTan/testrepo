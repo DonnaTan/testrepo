{
  "metadata": {
    "language_info": {
      "codemirror_mode": {
        "name": "python",
        "version": 3
      },
      "file_extension": ".py",
      "mimetype": "text/x-python",
      "name": "python",
      "nbconvert_exporter": "python",
      "pygments_lexer": "ipython3",
      "version": "3.8"
    },
    "kernelspec": {
      "name": "python",
      "display_name": "Pyolite",
      "language": "python"
    }
  },
  "nbformat_minor": 4,
  "nbformat": 4,
  "cells": [
    {
      "cell_type": "markdown",
      "source": "# My Jupyter Notebook on IBM Watson Studio",
      "metadata": {}
    },
    {
      "cell_type": "markdown",
      "source": "### Donna Tan",
      "metadata": {}
    },
    {
      "cell_type": "markdown",
      "source": "I wanna be a Data Scientist.",
      "metadata": {}
    },
    {
      "cell_type": "markdown",
      "source": "*I am interested in Data Science because I want to make right decisions by using it.*",
      "metadata": {}
    },
    {
      "cell_type": "markdown",
      "source": "### Codes belowing are doing simple algorithm",
      "metadata": {}
    },
    {
      "cell_type": "code",
      "source": "one=1\ntwo=2\nthree=3\nprint (one+two+three)",
      "metadata": {
        "trusted": true
      },
      "execution_count": 2,
      "outputs": [
        {
          "name": "stdout",
          "text": "6\n",
          "output_type": "stream"
        }
      ]
    },
    {
      "cell_type": "markdown",
      "source": "### bulleted list",
      "metadata": {}
    },
    {
      "cell_type": "markdown",
      "source": "+ cup\n+ watermellon\n+ clothes",
      "metadata": {}
    },
    {
      "cell_type": "markdown",
      "source": "### numbered list",
      "metadata": {}
    },
    {
      "cell_type": "markdown",
      "source": "1. cup\n2. watermellon\n3. clothes",
      "metadata": {}
    },
    {
      "cell_type": "markdown",
      "source": "### hyperlinks",
      "metadata": {}
    },
    {
      "cell_type": "markdown",
      "source": "www.baidu.com",
      "metadata": {}
    },
    {
      "cell_type": "code",
      "source": "",
      "metadata": {},
      "execution_count": null,
      "outputs": []
    }
  ]
}